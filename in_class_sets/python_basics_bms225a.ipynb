{
  "nbformat": 4,
  "nbformat_minor": 0,
  "metadata": {
    "colab": {
      "provenance": [],
      "toc_visible": true,
      "include_colab_link": true
    },
    "kernelspec": {
      "name": "python3",
      "display_name": "Python 3"
    },
    "language_info": {
      "name": "python"
    },
    "widgets": {
      "application/vnd.jupyter.widget-state+json": {
        "039d0e36482b4eca8871fe3fe2eead94": {
          "model_module": "@jupyter-widgets/controls",
          "model_name": "TextareaModel",
          "model_module_version": "1.5.0",
          "state": {
            "_dom_classes": [],
            "_model_module": "@jupyter-widgets/controls",
            "_model_module_version": "1.5.0",
            "_model_name": "TextareaModel",
            "_view_count": null,
            "_view_module": "@jupyter-widgets/controls",
            "_view_module_version": "1.5.0",
            "_view_name": "TextareaView",
            "continuous_update": true,
            "description": "Code:",
            "description_tooltip": null,
            "disabled": false,
            "layout": "IPY_MODEL_c2a60036584b434abaf5cfb32e480cf8",
            "placeholder": "Paste your Python code here...",
            "rows": null,
            "style": "IPY_MODEL_3e8072c9e2cc42bfb6e7198f4320dc4e",
            "value": "## You can edit this:\nprint('hello')\nx=3\nif x==0:\n  print('cannot divide by zero!')\nelse:\n  print(1/x)\n"
          }
        },
        "c2a60036584b434abaf5cfb32e480cf8": {
          "model_module": "@jupyter-widgets/base",
          "model_name": "LayoutModel",
          "model_module_version": "1.2.0",
          "state": {
            "_model_module": "@jupyter-widgets/base",
            "_model_module_version": "1.2.0",
            "_model_name": "LayoutModel",
            "_view_count": null,
            "_view_module": "@jupyter-widgets/base",
            "_view_module_version": "1.2.0",
            "_view_name": "LayoutView",
            "align_content": null,
            "align_items": null,
            "align_self": null,
            "border": null,
            "bottom": null,
            "display": null,
            "flex": null,
            "flex_flow": null,
            "grid_area": null,
            "grid_auto_columns": null,
            "grid_auto_flow": null,
            "grid_auto_rows": null,
            "grid_column": null,
            "grid_gap": null,
            "grid_row": null,
            "grid_template_areas": null,
            "grid_template_columns": null,
            "grid_template_rows": null,
            "height": "280px",
            "justify_content": null,
            "justify_items": null,
            "left": null,
            "margin": null,
            "max_height": null,
            "max_width": null,
            "min_height": null,
            "min_width": null,
            "object_fit": null,
            "object_position": null,
            "order": null,
            "overflow": null,
            "overflow_x": null,
            "overflow_y": null,
            "padding": null,
            "right": null,
            "top": null,
            "visibility": null,
            "width": "50%"
          }
        },
        "3e8072c9e2cc42bfb6e7198f4320dc4e": {
          "model_module": "@jupyter-widgets/controls",
          "model_name": "DescriptionStyleModel",
          "model_module_version": "1.5.0",
          "state": {
            "_model_module": "@jupyter-widgets/controls",
            "_model_module_version": "1.5.0",
            "_model_name": "DescriptionStyleModel",
            "_view_count": null,
            "_view_module": "@jupyter-widgets/base",
            "_view_module_version": "1.2.0",
            "_view_name": "StyleView",
            "description_width": ""
          }
        },
        "6c8aab7cd67a4748ac62195d13a55b85": {
          "model_module": "@jupyter-widgets/controls",
          "model_name": "ButtonModel",
          "model_module_version": "1.5.0",
          "state": {
            "_dom_classes": [],
            "_model_module": "@jupyter-widgets/controls",
            "_model_module_version": "1.5.0",
            "_model_name": "ButtonModel",
            "_view_count": null,
            "_view_module": "@jupyter-widgets/controls",
            "_view_module_version": "1.5.0",
            "_view_name": "ButtonView",
            "button_style": "",
            "description": "Execute step by step",
            "disabled": false,
            "icon": "",
            "layout": "IPY_MODEL_bbaf82d8e52940bdac79ed170091d8ff",
            "style": "IPY_MODEL_dd09fed6ce9245378d1c8439f33faa4c",
            "tooltip": ""
          }
        },
        "bbaf82d8e52940bdac79ed170091d8ff": {
          "model_module": "@jupyter-widgets/base",
          "model_name": "LayoutModel",
          "model_module_version": "1.2.0",
          "state": {
            "_model_module": "@jupyter-widgets/base",
            "_model_module_version": "1.2.0",
            "_model_name": "LayoutModel",
            "_view_count": null,
            "_view_module": "@jupyter-widgets/base",
            "_view_module_version": "1.2.0",
            "_view_name": "LayoutView",
            "align_content": null,
            "align_items": null,
            "align_self": null,
            "border": null,
            "bottom": null,
            "display": null,
            "flex": null,
            "flex_flow": null,
            "grid_area": null,
            "grid_auto_columns": null,
            "grid_auto_flow": null,
            "grid_auto_rows": null,
            "grid_column": null,
            "grid_gap": null,
            "grid_row": null,
            "grid_template_areas": null,
            "grid_template_columns": null,
            "grid_template_rows": null,
            "height": null,
            "justify_content": null,
            "justify_items": null,
            "left": null,
            "margin": null,
            "max_height": null,
            "max_width": null,
            "min_height": null,
            "min_width": null,
            "object_fit": null,
            "object_position": null,
            "order": null,
            "overflow": null,
            "overflow_x": null,
            "overflow_y": null,
            "padding": null,
            "right": null,
            "top": null,
            "visibility": null,
            "width": null
          }
        },
        "dd09fed6ce9245378d1c8439f33faa4c": {
          "model_module": "@jupyter-widgets/controls",
          "model_name": "ButtonStyleModel",
          "model_module_version": "1.5.0",
          "state": {
            "_model_module": "@jupyter-widgets/controls",
            "_model_module_version": "1.5.0",
            "_model_name": "ButtonStyleModel",
            "_view_count": null,
            "_view_module": "@jupyter-widgets/base",
            "_view_module_version": "1.2.0",
            "_view_name": "StyleView",
            "button_color": null,
            "font_weight": ""
          }
        }
      }
    }
  },
  "cells": [
    {
      "cell_type": "markdown",
      "metadata": {
        "id": "view-in-github",
        "colab_type": "text"
      },
      "source": [
        "<a href=\"https://colab.research.google.com/github/hhhuynh3/practice_225A/blob/main/in_class_sets/python_basics_bms225a.ipynb\" target=\"_parent\"><img src=\"https://colab.research.google.com/assets/colab-badge.svg\" alt=\"Open In Colab\"/></a>"
      ]
    },
    {
      "cell_type": "markdown",
      "source": [
        "Covers materials from the [ABSP](https://automatetheboringstuff.com/#toc)\n",
        "book (chapters 1-5)"
      ],
      "metadata": {
        "id": "RJVSCJYFbp-4"
      }
    },
    {
      "cell_type": "code",
      "source": [
        "# @title click play to execute this cell (setup, imports and utils)\n",
        "\n",
        "import ipywidgets as widgets\n",
        "from IPython.display import display, HTML, clear_output\n",
        "import urllib.parse\n",
        "# Function to generate the iframe when the button is clicked\n",
        "def on_button_click(b):\n",
        "    clear_output()  # Clear previous output, including any iframes\n",
        "    display(code_input, button)  # Redisplay the text area and button\n",
        "\n",
        "    raw_code = code_input.value  # Get the code from the text area\n",
        "    url = generate_pythontutor_url(raw_code)  # Generate the URL dynamically\n",
        "    display_url(url)  # Display the iframe\n",
        "\n",
        "def display_url(url,height=1000,width=1200):\n",
        "    iframe_code = f'''\n",
        "    <iframe width=\"{width}\" height=\"{height}\" frameborder=\"0\" src=\"{url}\"></iframe>\n",
        "    '''\n",
        "    display(HTML(iframe_code))\n",
        "\n",
        "def generate_pythontutor_url(raw_code):\n",
        "    # URL encode the raw code\n",
        "    encoded_code = urllib.parse.quote(raw_code)\n",
        "\n",
        "    # Base URL for Python Tutor iframe\n",
        "    base_url = \"https://pythontutor.com/iframe-embed.html\"\n",
        "\n",
        "    # Build the full URL with parameters\n",
        "    full_url = f\"{base_url}#code={encoded_code}&codeDivHeight={580}&codeDivWidth={640}&cumulative=false&curInstr=0&heapPrimitives=nevernest&origin=opt-frontend.js&py=3&rawInputLstJSON=%5B%5D&textReferences=false\"\n",
        "\n",
        "    return full_url"
      ],
      "metadata": {
        "cellView": "form",
        "id": "mLiI573WQg3E"
      },
      "execution_count": null,
      "outputs": []
    },
    {
      "cell_type": "markdown",
      "source": [
        "# Operations, expressions and data types"
      ],
      "metadata": {
        "id": "6Qf1CnQQWIkY"
      }
    },
    {
      "cell_type": "code",
      "source": [
        "2+3 # Simple addition"
      ],
      "metadata": {
        "id": "LwZCsFmRj3ka",
        "colab": {
          "base_uri": "https://localhost:8080/"
        },
        "outputId": "bb44dfe2-c442-416e-8295-3d87bd789d10"
      },
      "execution_count": null,
      "outputs": [
        {
          "output_type": "execute_result",
          "data": {
            "text/plain": [
              "5"
            ]
          },
          "metadata": {},
          "execution_count": 2
        }
      ]
    },
    {
      "cell_type": "code",
      "source": [
        "3*4-1 # Multiplication and subtraction, respecting the order of operations"
      ],
      "metadata": {
        "colab": {
          "base_uri": "https://localhost:8080/"
        },
        "id": "RHIGZTDK_1vD",
        "outputId": "6f3a3c6d-3cb7-44ad-ed80-68742e343cc5"
      },
      "execution_count": null,
      "outputs": [
        {
          "output_type": "execute_result",
          "data": {
            "text/plain": [
              "11"
            ]
          },
          "metadata": {},
          "execution_count": 20
        }
      ]
    },
    {
      "cell_type": "code",
      "source": [
        "3*(4-1) # Parentheses change the order of evaluation"
      ],
      "metadata": {
        "colab": {
          "base_uri": "https://localhost:8080/"
        },
        "id": "SMAZXQtGGMdt",
        "outputId": "8668c720-0ab5-4e48-990e-5f94189b9294"
      },
      "execution_count": null,
      "outputs": [
        {
          "output_type": "execute_result",
          "data": {
            "text/plain": [
              "9"
            ]
          },
          "metadata": {},
          "execution_count": 21
        }
      ]
    },
    {
      "cell_type": "code",
      "source": [
        "2.5 * ( (0.5+1) * 2 / (2-0.5) ) # A more complex calculation combining addition, multiplication, and division"
      ],
      "metadata": {
        "colab": {
          "base_uri": "https://localhost:8080/"
        },
        "id": "gFRteI1z_1yA",
        "outputId": "7c8a290b-af99-4f19-e487-e926379c32d5"
      },
      "execution_count": null,
      "outputs": [
        {
          "output_type": "execute_result",
          "data": {
            "text/plain": [
              "5.0"
            ]
          },
          "metadata": {},
          "execution_count": 16
        }
      ]
    },
    {
      "cell_type": "code",
      "source": [
        "'Hello' # A string value"
      ],
      "metadata": {
        "colab": {
          "base_uri": "https://localhost:8080/",
          "height": 35
        },
        "id": "vuAHn1Ma_1sO",
        "outputId": "9b58151e-3998-4bb1-c1dc-26f4a0ba9a56"
      },
      "execution_count": null,
      "outputs": [
        {
          "output_type": "execute_result",
          "data": {
            "text/plain": [
              "'Hello'"
            ],
            "application/vnd.google.colaboratory.intrinsic+json": {
              "type": "string"
            }
          },
          "metadata": {},
          "execution_count": 17
        }
      ]
    },
    {
      "cell_type": "code",
      "source": [
        "'Hello, '*10 + 'BMS!' # String multiplication and concatenation"
      ],
      "metadata": {
        "colab": {
          "base_uri": "https://localhost:8080/",
          "height": 52
        },
        "id": "mRch_IZqL6-k",
        "outputId": "bd846a04-6607-408f-f145-f5a073b0a288"
      },
      "execution_count": null,
      "outputs": [
        {
          "output_type": "execute_result",
          "data": {
            "text/plain": [
              "'Hello, Hello, Hello, Hello, Hello, Hello, Hello, Hello, Hello, Hello, BMS!'"
            ],
            "application/vnd.google.colaboratory.intrinsic+json": {
              "type": "string"
            }
          },
          "metadata": {},
          "execution_count": 45
        }
      ]
    },
    {
      "cell_type": "markdown",
      "source": [
        "The following operations are incorrect and will generate errors"
      ],
      "metadata": {
        "id": "BaylMkdaS_8q"
      }
    },
    {
      "cell_type": "code",
      "source": [
        "'Hello' - 'o' # Error: You can't subtract strings"
      ],
      "metadata": {
        "colab": {
          "base_uri": "https://localhost:8080/",
          "height": 176
        },
        "id": "c3gmcYD0_1ls",
        "outputId": "705357d8-eddb-4fb7-dae1-7eca04b84d9b"
      },
      "execution_count": null,
      "outputs": [
        {
          "output_type": "error",
          "ename": "TypeError",
          "evalue": "unsupported operand type(s) for -: 'str' and 'str'",
          "traceback": [
            "\u001b[0;31m---------------------------------------------------------------------------\u001b[0m",
            "\u001b[0;31mTypeError\u001b[0m                                 Traceback (most recent call last)",
            "\u001b[0;32m<ipython-input-26-9793da777727>\u001b[0m in \u001b[0;36m<cell line: 1>\u001b[0;34m()\u001b[0m\n\u001b[0;32m----> 1\u001b[0;31m \u001b[0;34m'Hell'\u001b[0m \u001b[0;34m-\u001b[0m \u001b[0;34m'o'\u001b[0m\u001b[0;34m\u001b[0m\u001b[0;34m\u001b[0m\u001b[0m\n\u001b[0m",
            "\u001b[0;31mTypeError\u001b[0m: unsupported operand type(s) for -: 'str' and 'str'"
          ]
        }
      ]
    },
    {
      "cell_type": "code",
      "source": [
        "'Hello' + 2 # Error: You can't concatenate a string and an integer"
      ],
      "metadata": {
        "colab": {
          "base_uri": "https://localhost:8080/",
          "height": 176
        },
        "id": "FceaeIPHM3k0",
        "outputId": "3a7af094-e8ee-4901-f19b-4850182fe943"
      },
      "execution_count": null,
      "outputs": [
        {
          "output_type": "error",
          "ename": "TypeError",
          "evalue": "can only concatenate str (not \"int\") to str",
          "traceback": [
            "\u001b[0;31m---------------------------------------------------------------------------\u001b[0m",
            "\u001b[0;31mTypeError\u001b[0m                                 Traceback (most recent call last)",
            "\u001b[0;32m<ipython-input-43-b3173ca6e2b4>\u001b[0m in \u001b[0;36m<cell line: 1>\u001b[0;34m()\u001b[0m\n\u001b[0;32m----> 1\u001b[0;31m \u001b[0;34m'Hello'\u001b[0m \u001b[0;34m+\u001b[0m \u001b[0;36m2\u001b[0m\u001b[0;34m\u001b[0m\u001b[0;34m\u001b[0m\u001b[0m\n\u001b[0m",
            "\u001b[0;31mTypeError\u001b[0m: can only concatenate str (not \"int\") to str"
          ]
        }
      ]
    },
    {
      "cell_type": "code",
      "source": [
        "'Hello, '*2.5 # Error: Multiplication by a non-integer is not allowed"
      ],
      "metadata": {
        "colab": {
          "base_uri": "https://localhost:8080/",
          "height": 176
        },
        "id": "axwxiMkd_1Vy",
        "outputId": "3a4eb9f9-74cc-4a0c-b63d-0dd122b18223"
      },
      "execution_count": null,
      "outputs": [
        {
          "output_type": "error",
          "ename": "TypeError",
          "evalue": "can't multiply sequence by non-int of type 'float'",
          "traceback": [
            "\u001b[0;31m---------------------------------------------------------------------------\u001b[0m",
            "\u001b[0;31mTypeError\u001b[0m                                 Traceback (most recent call last)",
            "\u001b[0;32m<ipython-input-44-4eeba1506da1>\u001b[0m in \u001b[0;36m<cell line: 1>\u001b[0;34m()\u001b[0m\n\u001b[0;32m----> 1\u001b[0;31m \u001b[0;34m'Hello, '\u001b[0m\u001b[0;34m*\u001b[0m\u001b[0;36m2.5\u001b[0m\u001b[0;34m\u001b[0m\u001b[0;34m\u001b[0m\u001b[0m\n\u001b[0m",
            "\u001b[0;31mTypeError\u001b[0m: can't multiply sequence by non-int of type 'float'"
          ]
        }
      ]
    },
    {
      "cell_type": "code",
      "source": [
        "'Hello'/2  # Error: You can't divide strings"
      ],
      "metadata": {
        "colab": {
          "base_uri": "https://localhost:8080/",
          "height": 176
        },
        "id": "2NoSKkvtNOrn",
        "outputId": "dae3a306-bbaf-4ad1-80dd-87d1c605b595"
      },
      "execution_count": null,
      "outputs": [
        {
          "output_type": "error",
          "ename": "TypeError",
          "evalue": "unsupported operand type(s) for /: 'str' and 'int'",
          "traceback": [
            "\u001b[0;31m---------------------------------------------------------------------------\u001b[0m",
            "\u001b[0;31mTypeError\u001b[0m                                 Traceback (most recent call last)",
            "\u001b[0;32m<ipython-input-48-86cd4f601408>\u001b[0m in \u001b[0;36m<cell line: 1>\u001b[0;34m()\u001b[0m\n\u001b[0;32m----> 1\u001b[0;31m \u001b[0;34m'Hello'\u001b[0m\u001b[0;34m/\u001b[0m\u001b[0;36m2\u001b[0m\u001b[0;34m\u001b[0m\u001b[0;34m\u001b[0m\u001b[0m\n\u001b[0m",
            "\u001b[0;31mTypeError\u001b[0m: unsupported operand type(s) for /: 'str' and 'int'"
          ]
        }
      ]
    },
    {
      "cell_type": "markdown",
      "source": [
        "# Storing values in variables"
      ],
      "metadata": {
        "id": "eG5HaJ0eWN0u"
      }
    },
    {
      "cell_type": "code",
      "source": [
        "gene_name = 'KRAS' # Assign a value to a variable"
      ],
      "metadata": {
        "id": "uIZ7osHfNOoc"
      },
      "execution_count": null,
      "outputs": []
    },
    {
      "cell_type": "code",
      "source": [
        "print(gene_name) # Prints the value of the variable"
      ],
      "metadata": {
        "colab": {
          "base_uri": "https://localhost:8080/"
        },
        "id": "4DZ3t0JoNOl3",
        "outputId": "4d46e7b6-9c3c-45b0-ac86-94c5a086ada1"
      },
      "execution_count": null,
      "outputs": [
        {
          "output_type": "stream",
          "name": "stdout",
          "text": [
            "KRAS\n"
          ]
        }
      ]
    },
    {
      "cell_type": "code",
      "source": [
        "print('gene_name') # Prints the string 'gene_name'"
      ],
      "metadata": {
        "colab": {
          "base_uri": "https://localhost:8080/"
        },
        "id": "5xyVXlQzNOi-",
        "outputId": "4229b0b3-9fa8-41be-9d59-4e210282ce26"
      },
      "execution_count": null,
      "outputs": [
        {
          "output_type": "stream",
          "name": "stdout",
          "text": [
            "gene_name\n"
          ]
        }
      ]
    },
    {
      "cell_type": "markdown",
      "source": [
        "Updating variables and working with strings and integers"
      ],
      "metadata": {
        "id": "YAXbeKTGTd4E"
      }
    },
    {
      "cell_type": "code",
      "source": [
        "gene_name = 'KRAS'"
      ],
      "metadata": {
        "id": "dTSmP0LzNOT5"
      },
      "execution_count": null,
      "outputs": []
    },
    {
      "cell_type": "code",
      "source": [
        "x = 5\n",
        "x = x + 2\n",
        "# x = x - 2\n",
        "gene_name = gene_name+'>'\n",
        "x = gene_name*x\n",
        "print(x)"
      ],
      "metadata": {
        "colab": {
          "base_uri": "https://localhost:8080/"
        },
        "id": "Thlm6ZTflKbl",
        "outputId": "5e47f754-1a9c-4849-eba3-1077384d6a0c"
      },
      "execution_count": null,
      "outputs": [
        {
          "output_type": "stream",
          "name": "stdout",
          "text": [
            "KRAS>KRAS>KRAS>KRAS>KRAS>KRAS>KRAS>\n"
          ]
        }
      ]
    },
    {
      "cell_type": "code",
      "source": [
        "# The above code with comments!\n",
        "\n",
        "# Define the initial gene name\n",
        "gene_name = 'KRAS'\n",
        "\n",
        "# Initialize a value\n",
        "initial_value = 5\n",
        "\n",
        "# Increase the initial value by 2.\n",
        "updated_value = initial_value + 2\n",
        "\n",
        "# Modify the gene_name by appending a '>' symbol.\n",
        "modified_gene_name = gene_name + '>'  # Now modified_gene_name is 'KRAS>'\n",
        "\n",
        "# Multiply the modified_gene_name string by the value of updated_value.\n",
        "# This results in the gene name being repeated multiple times.\n",
        "repeated_gene_string = modified_gene_name * updated_value\n",
        "\n",
        "# Print the final output.\n",
        "print(repeated_gene_string)\n",
        "\n"
      ],
      "metadata": {
        "id": "RCH4YcjzsRT_"
      },
      "execution_count": null,
      "outputs": []
    },
    {
      "cell_type": "markdown",
      "source": [
        "# Flow control"
      ],
      "metadata": {
        "id": "xh4wa7BYpqSO"
      }
    },
    {
      "cell_type": "code",
      "source": [
        "2 != 3  # True: 2 is not equal to 3"
      ],
      "metadata": {
        "colab": {
          "base_uri": "https://localhost:8080/"
        },
        "id": "F2vMOwiGHyb_",
        "outputId": "70d92224-2f41-47de-be1c-e773eb81c382"
      },
      "execution_count": null,
      "outputs": [
        {
          "output_type": "execute_result",
          "data": {
            "text/plain": [
              "True"
            ]
          },
          "metadata": {},
          "execution_count": 125
        }
      ]
    },
    {
      "cell_type": "code",
      "source": [
        "2 == 2 # True: 2 is equal to 2"
      ],
      "metadata": {
        "colab": {
          "base_uri": "https://localhost:8080/"
        },
        "id": "pVkiPE1AHzaB",
        "outputId": "8b505a36-79e4-4b52-facc-5c7fec837550"
      },
      "execution_count": null,
      "outputs": [
        {
          "output_type": "execute_result",
          "data": {
            "text/plain": [
              "True"
            ]
          },
          "metadata": {},
          "execution_count": 126
        }
      ]
    },
    {
      "cell_type": "code",
      "source": [
        "'hello' == 'Hello' # False: case-sensitive comparison"
      ],
      "metadata": {
        "colab": {
          "base_uri": "https://localhost:8080/"
        },
        "id": "T23LB2X8H3Jt",
        "outputId": "ac2a1ee1-9b4f-403f-d275-02213ab968e3"
      },
      "execution_count": null,
      "outputs": [
        {
          "output_type": "execute_result",
          "data": {
            "text/plain": [
              "False"
            ]
          },
          "metadata": {},
          "execution_count": 127
        }
      ]
    },
    {
      "cell_type": "code",
      "source": [
        "'hello' > 0"
      ],
      "metadata": {
        "colab": {
          "base_uri": "https://localhost:8080/",
          "height": 176
        },
        "id": "If6OPkHFH_Wq",
        "outputId": "ba879476-bbbc-4392-c157-b128533ee55a"
      },
      "execution_count": null,
      "outputs": [
        {
          "output_type": "error",
          "ename": "TypeError",
          "evalue": "'>' not supported between instances of 'str' and 'int'",
          "traceback": [
            "\u001b[0;31m---------------------------------------------------------------------------\u001b[0m",
            "\u001b[0;31mTypeError\u001b[0m                                 Traceback (most recent call last)",
            "\u001b[0;32m<ipython-input-128-94b5a619a7c2>\u001b[0m in \u001b[0;36m<cell line: 1>\u001b[0;34m()\u001b[0m\n\u001b[0;32m----> 1\u001b[0;31m \u001b[0;34m'hello'\u001b[0m \u001b[0;34m>\u001b[0m \u001b[0;36m0\u001b[0m\u001b[0;34m\u001b[0m\u001b[0;34m\u001b[0m\u001b[0m\n\u001b[0m",
            "\u001b[0;31mTypeError\u001b[0m: '>' not supported between instances of 'str' and 'int'"
          ]
        }
      ]
    },
    {
      "cell_type": "markdown",
      "source": [
        "- Using an `if-else` block to control the flow of the program"
      ],
      "metadata": {
        "id": "3QlEu_zcUH_0"
      }
    },
    {
      "cell_type": "code",
      "source": [
        "x=3 # a variable (you can change the value)\n",
        "\n",
        "if x<0:\n",
        "  print('x is negative') # Executes if x is less than 0\n",
        "else:\n",
        "  print('x is not negative') # Executes if x is 0 or positive"
      ],
      "metadata": {
        "colab": {
          "base_uri": "https://localhost:8080/"
        },
        "id": "0BVw_0e6IFsj",
        "outputId": "3e68dd72-19de-4fba-b1dc-945d64895ec2"
      },
      "execution_count": null,
      "outputs": [
        {
          "output_type": "stream",
          "name": "stdout",
          "text": [
            "x is not negative\n"
          ]
        }
      ]
    },
    {
      "cell_type": "markdown",
      "source": [
        "- `If-elif-else` structure for multiple conditions"
      ],
      "metadata": {
        "id": "UIGwvVGWUTT1"
      }
    },
    {
      "cell_type": "code",
      "source": [
        "x=0 # a variable (you can change the value)\n",
        "\n",
        "if x<0:\n",
        "  print('negative')\n",
        "elif x==0:\n",
        "  print('zero')\n",
        "else:\n",
        "  print('positive')"
      ],
      "metadata": {
        "colab": {
          "base_uri": "https://localhost:8080/"
        },
        "id": "qRlLeDfkIFpO",
        "outputId": "b022a70f-2e3e-4e1a-815c-ed5533df7c8c"
      },
      "execution_count": null,
      "outputs": [
        {
          "output_type": "stream",
          "name": "stdout",
          "text": [
            "zero\n"
          ]
        }
      ]
    },
    {
      "cell_type": "markdown",
      "source": [
        "- Nested conditions to check the value of gene_expression"
      ],
      "metadata": {
        "id": "i_9SZ67AUd6z"
      }
    },
    {
      "cell_type": "code",
      "source": [
        "gene_expression = 54"
      ],
      "metadata": {
        "id": "8nP8WDHTMVV-"
      },
      "execution_count": null,
      "outputs": []
    },
    {
      "cell_type": "code",
      "source": [
        "if gene_expression<=0:\n",
        "  print('the gene is not expressed')\n",
        "else:\n",
        "  if gene_expression>0:\n",
        "    print('the gene is expressed')\n",
        "  if gene_expression>50:\n",
        "    print('the gene is highly expressed')"
      ],
      "metadata": {
        "colab": {
          "base_uri": "https://localhost:8080/"
        },
        "id": "ppkChX0IMEt9",
        "outputId": "74ad0e63-2e23-4389-c85a-ed782cd12214"
      },
      "execution_count": null,
      "outputs": [
        {
          "output_type": "stream",
          "name": "stdout",
          "text": [
            "the gene is expressed\n",
            "the gene is highly expressed\n"
          ]
        }
      ]
    },
    {
      "cell_type": "code",
      "source": [
        "# Another example: checking both name and password\n",
        "\n",
        "name = 'Mary'\n",
        "password = 'swordfish'\n",
        "\n",
        "if name == 'Mary':\n",
        "    print('Hello Mary')\n",
        "    if password == 'swordfish':\n",
        "        print('Access granted.')\n",
        "    else:\n",
        "        print('Wrong password.')"
      ],
      "metadata": {
        "id": "ifnh30OxMEmM"
      },
      "execution_count": null,
      "outputs": []
    },
    {
      "cell_type": "markdown",
      "source": [
        "### Division example with user input"
      ],
      "metadata": {
        "id": "ao5lcQwRUoKC"
      }
    },
    {
      "cell_type": "code",
      "source": [
        "print('1/x Calculator!')\n",
        "\n",
        "# Prompt the user for input. Notice the int() function which is\n",
        "# there to tranform the input value from string to an integer data type\n",
        "x = int(input('Enter the value of x: '))\n",
        "\n",
        "# Handle the case where x is zero\n",
        "if x == 0:\n",
        "    print(\"Error: Division by zero is not allowed.\")\n",
        "else:\n",
        "    result = 1 / x\n",
        "    print(f\"1/{x} = {result}\")  # this is an f-string, very useful for embedding variables directly into strings.\n",
        "\n"
      ],
      "metadata": {
        "colab": {
          "base_uri": "https://localhost:8080/"
        },
        "id": "uJvx-uMQlKY9",
        "outputId": "2bac3175-adeb-40ef-d449-f19361a28fad"
      },
      "execution_count": null,
      "outputs": [
        {
          "output_type": "stream",
          "name": "stdout",
          "text": [
            "1/x Calculator!\n",
            "Enter the value of x: 0\n",
            "Error: Division by zero is not allowed.\n"
          ]
        }
      ]
    },
    {
      "cell_type": "markdown",
      "source": [
        "# while loops"
      ],
      "metadata": {
        "id": "uCK3CX-HTEfu"
      }
    },
    {
      "cell_type": "code",
      "source": [
        "# Demonstrate iteration using print statements\n",
        "print(0)\n",
        "print(1)\n",
        "print(2)"
      ],
      "metadata": {
        "colab": {
          "base_uri": "https://localhost:8080/"
        },
        "id": "S2wxJIj4GzxD",
        "outputId": "887de461-9a5d-41cf-f119-931c173b78f6"
      },
      "execution_count": null,
      "outputs": [
        {
          "output_type": "stream",
          "name": "stdout",
          "text": [
            "0\n",
            "1\n",
            "2\n"
          ]
        }
      ]
    },
    {
      "cell_type": "code",
      "source": [
        "# Illustrating how a while loop works with manual iteration\n",
        "number = 0\n",
        "\n",
        "# iteration 1\n",
        "print(number)\n",
        "number = number +1\n",
        "\n",
        "# iteration 2\n",
        "print(number)\n",
        "number = number +1\n",
        "\n",
        "# iteration 3\n",
        "print(number)\n",
        "number = number +1"
      ],
      "metadata": {
        "colab": {
          "base_uri": "https://localhost:8080/"
        },
        "id": "CQIEFlirRW2z",
        "outputId": "6361d9cd-3ff5-4c32-9df2-9ba7ca2861b6"
      },
      "execution_count": null,
      "outputs": [
        {
          "output_type": "stream",
          "name": "stdout",
          "text": [
            "0\n",
            "1\n",
            "2\n"
          ]
        }
      ]
    },
    {
      "cell_type": "markdown",
      "source": [
        "- Using a `while` loop to automate the iteration"
      ],
      "metadata": {
        "id": "g7yZRl7YU7OI"
      }
    },
    {
      "cell_type": "code",
      "source": [
        "number = 0  # Start at 0\n",
        "while number < 3:  # Run until number reaches 3\n",
        "    print(number)\n",
        "    number = number +1  # Increment number by 1"
      ],
      "metadata": {
        "colab": {
          "base_uri": "https://localhost:8080/"
        },
        "id": "j7IgNDCWV2Aw",
        "outputId": "6ba57715-b8c1-446c-cde4-efffc91c03df"
      },
      "execution_count": null,
      "outputs": [
        {
          "output_type": "stream",
          "name": "stdout",
          "text": [
            "0\n",
            "1\n",
            "2\n"
          ]
        }
      ]
    },
    {
      "cell_type": "code",
      "source": [
        "# Demonstrate the += operator for convenience\n",
        "\n",
        "number = 0  # Start at 0\n",
        "while number < 3:  # Run until number reaches 3\n",
        "    print(number)\n",
        "    number += 1  # Increment number by 1"
      ],
      "metadata": {
        "colab": {
          "base_uri": "https://localhost:8080/"
        },
        "id": "kWXH0-HAUUBs",
        "outputId": "54675ac0-0368-4677-b1a9-98106d654bda"
      },
      "execution_count": null,
      "outputs": [
        {
          "output_type": "stream",
          "name": "stdout",
          "text": [
            "0\n",
            "1\n",
            "2\n"
          ]
        }
      ]
    },
    {
      "cell_type": "code",
      "source": [],
      "metadata": {
        "id": "UPysmF6MUTyo"
      },
      "execution_count": null,
      "outputs": []
    },
    {
      "cell_type": "markdown",
      "source": [
        "# for loops"
      ],
      "metadata": {
        "id": "1zpq9H1-VIXn"
      }
    },
    {
      "cell_type": "code",
      "source": [
        "# Demonstrate a for loop with a range of values\n",
        "for number in range(3):\n",
        "  print(number)"
      ],
      "metadata": {
        "colab": {
          "base_uri": "https://localhost:8080/"
        },
        "id": "zS7VFL_YOve7",
        "outputId": "aabe404c-2a30-4f92-f69b-c962346d32a7"
      },
      "execution_count": null,
      "outputs": [
        {
          "output_type": "stream",
          "name": "stdout",
          "text": [
            "0\n",
            "1\n",
            "2\n"
          ]
        }
      ]
    },
    {
      "cell_type": "code",
      "source": [
        "# Loop from 0 to 9\n",
        "for number in range(10):\n",
        "  print(number)"
      ],
      "metadata": {
        "colab": {
          "base_uri": "https://localhost:8080/"
        },
        "id": "n_AD6vxkSOfy",
        "outputId": "b10edd2b-d549-49f4-c022-20934d7c9b15"
      },
      "execution_count": null,
      "outputs": [
        {
          "output_type": "stream",
          "name": "stdout",
          "text": [
            "0\n",
            "1\n",
            "2\n",
            "3\n",
            "4\n",
            "5\n",
            "6\n",
            "7\n",
            "8\n",
            "9\n"
          ]
        }
      ]
    },
    {
      "cell_type": "code",
      "source": [
        "# Loop from 2 to 9\n",
        "for number in range(2,10):\n",
        "  print(number)"
      ],
      "metadata": {
        "colab": {
          "base_uri": "https://localhost:8080/"
        },
        "id": "cX50COL-lKWH",
        "outputId": "2d1effb8-0c6e-485e-aaf2-fac4c27f5702"
      },
      "execution_count": null,
      "outputs": [
        {
          "output_type": "stream",
          "name": "stdout",
          "text": [
            "2\n",
            "3\n",
            "4\n",
            "5\n",
            "6\n",
            "7\n",
            "8\n",
            "9\n"
          ]
        }
      ]
    },
    {
      "cell_type": "code",
      "source": [
        "# Loop from 2 to 9, with a step of 3\n",
        "for number in range(2,10,3):\n",
        "  print(number)"
      ],
      "metadata": {
        "colab": {
          "base_uri": "https://localhost:8080/"
        },
        "id": "dmOm914vlKS_",
        "outputId": "e862c23a-3cf2-4ed1-9fec-ffd92073b2e2"
      },
      "execution_count": null,
      "outputs": [
        {
          "output_type": "stream",
          "name": "stdout",
          "text": [
            "2\n",
            "5\n",
            "8\n"
          ]
        }
      ]
    },
    {
      "cell_type": "code",
      "source": [
        "# Iterate over a string to print each character\n",
        "sentence = 'Hello, world!'\n",
        "\n",
        "for letter in sentence:\n",
        "  print(letter)"
      ],
      "metadata": {
        "colab": {
          "base_uri": "https://localhost:8080/"
        },
        "id": "oKm8FA8MZqN3",
        "outputId": "52d7b5f7-59cf-44b8-d584-b5b8ee195d19"
      },
      "execution_count": null,
      "outputs": [
        {
          "output_type": "stream",
          "name": "stdout",
          "text": [
            "H\n",
            "e\n",
            "l\n",
            "l\n",
            "o\n",
            ",\n",
            " \n",
            "w\n",
            "o\n",
            "r\n",
            "l\n",
            "d\n",
            "!\n"
          ]
        }
      ]
    },
    {
      "cell_type": "code",
      "source": [
        "# iterate over a list\n",
        "for fruit in ['apple','orange','lemon']:\n",
        "  print(fruit)"
      ],
      "metadata": {
        "colab": {
          "base_uri": "https://localhost:8080/"
        },
        "id": "eOFPR3nMXGRX",
        "outputId": "d3d2125a-6627-445c-e976-1add97fb9981"
      },
      "execution_count": null,
      "outputs": [
        {
          "output_type": "stream",
          "name": "stdout",
          "text": [
            "apple\n",
            "orange\n",
            "lemon\n"
          ]
        }
      ]
    },
    {
      "cell_type": "code",
      "source": [],
      "metadata": {
        "id": "-C3pvGgiSQxp"
      },
      "execution_count": null,
      "outputs": []
    },
    {
      "cell_type": "code",
      "source": [
        "### cannot exit this 'while loop' unless you type in 'your name'\n",
        "### well technically you can exit by clicking on the stop button\n",
        "name = ''\n",
        "while name != 'your name':\n",
        "  print('Please type your name.')\n",
        "  name = input()\n",
        "print('Thank you!')"
      ],
      "metadata": {
        "id": "j2vOw-JgRAeo",
        "colab": {
          "base_uri": "https://localhost:8080/"
        },
        "outputId": "71e86689-18cd-405f-fcc7-d37c1da89aca"
      },
      "execution_count": null,
      "outputs": [
        {
          "output_type": "stream",
          "name": "stdout",
          "text": [
            "Please type your name.\n",
            "vasilis\n",
            "Please type your name.\n",
            "your name\n",
            "Thank you!\n"
          ]
        }
      ]
    },
    {
      "cell_type": "markdown",
      "source": [
        "#Functions"
      ],
      "metadata": {
        "id": "kl2Rs9ovmkzv"
      }
    },
    {
      "cell_type": "code",
      "source": [
        "# Define a function that adds two numbers and scales the result\n",
        "def add_and_scale(x, y, scale_param = 1):\n",
        "  result = ( x + y ) * scale_param\n",
        "  return result"
      ],
      "metadata": {
        "id": "YAbI_Pjen4C5"
      },
      "execution_count": null,
      "outputs": []
    },
    {
      "cell_type": "code",
      "source": [
        "# Define a function with a detailed docstring explaining the parameters and the return value\n",
        "def add_and_scale(x, y, scale_param=1):\n",
        "    \"\"\"\n",
        "    Adds two numbers and scales the result by a specified parameter.\n",
        "\n",
        "    Parameters:\n",
        "    x (int or float): The first number to add.\n",
        "    y (int or float): The second number to add.\n",
        "    scale_param (int or float, optional): The scaling factor to multiply the sum by.\n",
        "                                          Default is 1.\n",
        "\n",
        "    Returns:\n",
        "    int or float: The result of adding x and y, then multiplying by scale_param.\n",
        "\n",
        "    Example:\n",
        "    >>> add_and_scale(3, 5)\n",
        "    8\n",
        "    >>> add_and_scale(3, 5, 2)\n",
        "    16\n",
        "    \"\"\"\n",
        "    # Add the two input numbers x and y\n",
        "    result = (x + y)\n",
        "\n",
        "    # Scale the sum by the scale_param\n",
        "    result = result * scale_param\n",
        "\n",
        "    # Return the final result\n",
        "    return result\n"
      ],
      "metadata": {
        "id": "GHj4l6ghoa5D"
      },
      "execution_count": null,
      "outputs": []
    },
    {
      "cell_type": "code",
      "source": [
        "add_and_scale?  # This can be used in Jupyter to view the function's docstring (and get help)"
      ],
      "metadata": {
        "id": "2shvD_Ueon2n"
      },
      "execution_count": null,
      "outputs": []
    },
    {
      "cell_type": "markdown",
      "source": [
        "# Lists"
      ],
      "metadata": {
        "id": "JY1MuLeZ9-eA"
      }
    },
    {
      "cell_type": "code",
      "source": [
        "# Define a list of fruits (represented by emojis)\n",
        "# notice the quotes as emojis are text characteds like 'a' and 'b'\n",
        "fruit_list = ['🥝', '🍋','🍊','🍓','🍋','🍋']"
      ],
      "metadata": {
        "id": "8UENVhKX-BR9"
      },
      "execution_count": null,
      "outputs": []
    },
    {
      "cell_type": "markdown",
      "source": [
        "- Accessing list elements by index"
      ],
      "metadata": {
        "id": "kNd2kQnmWnyf"
      }
    },
    {
      "cell_type": "code",
      "source": [
        "fruit_list[2] # The third element"
      ],
      "metadata": {
        "colab": {
          "base_uri": "https://localhost:8080/",
          "height": 35
        },
        "id": "w1w2OtuY-i7W",
        "outputId": "c8e193dc-b167-4202-cedb-175cb541b523"
      },
      "execution_count": null,
      "outputs": [
        {
          "output_type": "execute_result",
          "data": {
            "text/plain": [
              "'🍊'"
            ],
            "application/vnd.google.colaboratory.intrinsic+json": {
              "type": "string"
            }
          },
          "metadata": {},
          "execution_count": 39
        }
      ]
    },
    {
      "cell_type": "code",
      "source": [
        "fruit_list[0] # The first element"
      ],
      "metadata": {
        "colab": {
          "base_uri": "https://localhost:8080/",
          "height": 35
        },
        "id": "nCfDvKbI-BPa",
        "outputId": "6b687c88-822c-4d94-abb0-8c08d332f7c4"
      },
      "execution_count": null,
      "outputs": [
        {
          "output_type": "execute_result",
          "data": {
            "text/plain": [
              "'🥝'"
            ],
            "application/vnd.google.colaboratory.intrinsic+json": {
              "type": "string"
            }
          },
          "metadata": {},
          "execution_count": 40
        }
      ]
    },
    {
      "cell_type": "code",
      "source": [
        "fruit_list[-1] # The last element"
      ],
      "metadata": {
        "colab": {
          "base_uri": "https://localhost:8080/",
          "height": 35
        },
        "id": "Md2bF8YB-BMg",
        "outputId": "66a8d547-546e-45cb-f26c-502f470d0a64"
      },
      "execution_count": null,
      "outputs": [
        {
          "output_type": "execute_result",
          "data": {
            "text/plain": [
              "'🍋'"
            ],
            "application/vnd.google.colaboratory.intrinsic+json": {
              "type": "string"
            }
          },
          "metadata": {},
          "execution_count": 41
        }
      ]
    },
    {
      "cell_type": "code",
      "source": [
        "# Add an element to the end of the list\n",
        "fruit_list.append('🍋')"
      ],
      "metadata": {
        "id": "QNiUw9MS-y1y"
      },
      "execution_count": null,
      "outputs": []
    },
    {
      "cell_type": "code",
      "source": [
        "fruit_list"
      ],
      "metadata": {
        "colab": {
          "base_uri": "https://localhost:8080/"
        },
        "id": "jnVpmzGh-BJs",
        "outputId": "ee9050ad-0dd7-4f92-bc27-1c567f2dd9c8"
      },
      "execution_count": null,
      "outputs": [
        {
          "output_type": "execute_result",
          "data": {
            "text/plain": [
              "['🥝', '🍋', '🍊', '🍓', '🍋', '🍋', '🍋']"
            ]
          },
          "metadata": {},
          "execution_count": 43
        }
      ]
    },
    {
      "cell_type": "markdown",
      "source": [
        "- finding the index of an element"
      ],
      "metadata": {
        "id": "e6GrQ1WYW4im"
      }
    },
    {
      "cell_type": "code",
      "source": [
        "fruit_list.index('🍊') # Returns 2,(the first occurence of the item in the list)"
      ],
      "metadata": {
        "colab": {
          "base_uri": "https://localhost:8080/"
        },
        "id": "egPw4u3K_A9g",
        "outputId": "d99ee3f1-f3cf-4805-8ac6-167bafc82dff"
      },
      "execution_count": null,
      "outputs": [
        {
          "output_type": "execute_result",
          "data": {
            "text/plain": [
              "2"
            ]
          },
          "metadata": {},
          "execution_count": 44
        }
      ]
    },
    {
      "cell_type": "code",
      "source": [
        "fruit_list.index('🍋') # Returns 1 (the first occurence of the item in the list)"
      ],
      "metadata": {
        "colab": {
          "base_uri": "https://localhost:8080/"
        },
        "id": "ZaTpd_vn_EZ-",
        "outputId": "4a4dc534-3cf5-42ab-c688-af04e5e32f1f"
      },
      "execution_count": null,
      "outputs": [
        {
          "output_type": "execute_result",
          "data": {
            "text/plain": [
              "1"
            ]
          },
          "metadata": {},
          "execution_count": 45
        }
      ]
    },
    {
      "cell_type": "code",
      "source": [
        "fruit_list[2:] #list from index 2 until the end"
      ],
      "metadata": {
        "colab": {
          "base_uri": "https://localhost:8080/"
        },
        "id": "Fllyx030_iPa",
        "outputId": "d7e9a73b-096b-4be6-eb28-755fcf905128"
      },
      "execution_count": null,
      "outputs": [
        {
          "output_type": "execute_result",
          "data": {
            "text/plain": [
              "['🍊', '🍓', '🍋', '🍋', '🍋']"
            ]
          },
          "metadata": {},
          "execution_count": 46
        }
      ]
    },
    {
      "cell_type": "code",
      "source": [
        "# Trying to find an element not in the list will result in an error\n",
        "fruit_list.index('🍇')"
      ],
      "metadata": {
        "colab": {
          "base_uri": "https://localhost:8080/",
          "height": 176
        },
        "id": "r02naKdX_EXG",
        "outputId": "84cf51ec-b9f6-4b9c-849e-ea0f4a6695b9"
      },
      "execution_count": null,
      "outputs": [
        {
          "output_type": "error",
          "ename": "ValueError",
          "evalue": "'🍇' is not in list",
          "traceback": [
            "\u001b[0;31m---------------------------------------------------------------------------\u001b[0m",
            "\u001b[0;31mValueError\u001b[0m                                Traceback (most recent call last)",
            "\u001b[0;32m<ipython-input-47-3a28aabc80cb>\u001b[0m in \u001b[0;36m<cell line: 1>\u001b[0;34m()\u001b[0m\n\u001b[0;32m----> 1\u001b[0;31m \u001b[0mfruit_list\u001b[0m\u001b[0;34m.\u001b[0m\u001b[0mindex\u001b[0m\u001b[0;34m(\u001b[0m\u001b[0;34m'🍇'\u001b[0m\u001b[0;34m)\u001b[0m\u001b[0;34m\u001b[0m\u001b[0;34m\u001b[0m\u001b[0m\n\u001b[0m",
            "\u001b[0;31mValueError\u001b[0m: '🍇' is not in list"
          ]
        }
      ]
    },
    {
      "cell_type": "markdown",
      "source": [
        "- Adding and removing items from the list"
      ],
      "metadata": {
        "id": "lTEGF8VTXco-"
      }
    },
    {
      "cell_type": "code",
      "source": [
        "fruit_list.append('🍇') # Add grape emoji\n",
        "fruit_list"
      ],
      "metadata": {
        "colab": {
          "base_uri": "https://localhost:8080/"
        },
        "id": "W9Mz4-ciAK09",
        "outputId": "e7657e82-57bd-413f-97cf-c3372d20db5e"
      },
      "execution_count": null,
      "outputs": [
        {
          "output_type": "execute_result",
          "data": {
            "text/plain": [
              "['🥝', '🍋', '🍊', '🍓', '🍋', '🍋', '🍋', '🍇']"
            ]
          },
          "metadata": {},
          "execution_count": 48
        }
      ]
    },
    {
      "cell_type": "code",
      "source": [
        "last_item = fruit_list.pop() #removes last item (grape) from list and saves value in a variable"
      ],
      "metadata": {
        "id": "TjgCIzSR_btg"
      },
      "execution_count": null,
      "outputs": []
    },
    {
      "cell_type": "code",
      "source": [
        "# Sorting the list\n",
        "fruit_list.sort() # this will sort the list (not sure what the sorting rules are for emojis :)\n",
        "fruit_list"
      ],
      "metadata": {
        "colab": {
          "base_uri": "https://localhost:8080/"
        },
        "id": "eILnTWENBCi3",
        "outputId": "e3c64c01-a65c-4137-d49f-6118461f9758"
      },
      "execution_count": null,
      "outputs": [
        {
          "output_type": "execute_result",
          "data": {
            "text/plain": [
              "['🍊', '🍋', '🍋', '🍋', '🍋', '🍓', '🥝']"
            ]
          },
          "metadata": {},
          "execution_count": 52
        }
      ]
    },
    {
      "cell_type": "code",
      "source": [
        "# Sorting a list of numbers\n",
        "numbers_list = [3,5,1,8,3,3,3]\n",
        "numbers_list.sort()\n",
        "numbers_list"
      ],
      "metadata": {
        "colab": {
          "base_uri": "https://localhost:8080/"
        },
        "id": "68ymf3ETBWyR",
        "outputId": "e0c2eabc-5680-415b-854e-7a1dc04113f5"
      },
      "execution_count": null,
      "outputs": [
        {
          "output_type": "execute_result",
          "data": {
            "text/plain": [
              "[1, 3, 3, 3, 3, 5, 8]"
            ]
          },
          "metadata": {},
          "execution_count": 53
        }
      ]
    },
    {
      "cell_type": "code",
      "source": [
        "# Sorting a list of words\n",
        "word_list = ['Bank','House','Car','Cat','Python','Dog','Air']\n",
        "word_list.sort()\n",
        "word_list"
      ],
      "metadata": {
        "colab": {
          "base_uri": "https://localhost:8080/"
        },
        "id": "Tnrog_xHBfuc",
        "outputId": "89c4013a-e584-424a-9761-9b15739d6bef"
      },
      "execution_count": null,
      "outputs": [
        {
          "output_type": "execute_result",
          "data": {
            "text/plain": [
              "['Air', 'Bank', 'Car', 'Cat', 'Dog', 'House', 'Python']"
            ]
          },
          "metadata": {},
          "execution_count": 54
        }
      ]
    },
    {
      "cell_type": "code",
      "source": [
        "# Concatenating lists\n",
        "fruit_list + word_list # You can combine two lists"
      ],
      "metadata": {
        "colab": {
          "base_uri": "https://localhost:8080/"
        },
        "id": "q0t8q_-RBCgQ",
        "outputId": "2d9e4b76-40d1-43c1-b0f2-07a205c1d603"
      },
      "execution_count": null,
      "outputs": [
        {
          "output_type": "execute_result",
          "data": {
            "text/plain": [
              "['🍊',\n",
              " '🍋',\n",
              " '🍋',\n",
              " '🍋',\n",
              " '🍋',\n",
              " '🍓',\n",
              " '🥝',\n",
              " 'Air',\n",
              " 'Bank',\n",
              " 'Car',\n",
              " 'Cat',\n",
              " 'Dog',\n",
              " 'House',\n",
              " 'Python']"
            ]
          },
          "metadata": {},
          "execution_count": 55
        }
      ]
    },
    {
      "cell_type": "code",
      "source": [
        "# lists can hold different data types (strings and numbers in this case)\n",
        "fruit_list + numbers_list"
      ],
      "metadata": {
        "colab": {
          "base_uri": "https://localhost:8080/"
        },
        "id": "7JdKF7-hBCdb",
        "outputId": "6c676dc5-3dc2-4363-b9ea-5037ac7b7b96"
      },
      "execution_count": null,
      "outputs": [
        {
          "output_type": "execute_result",
          "data": {
            "text/plain": [
              "['🍊', '🍋', '🍋', '🍋', '🍋', '🍓', '🥝', 1, 3, 3, 3, 3, 5, 8]"
            ]
          },
          "metadata": {},
          "execution_count": 56
        }
      ]
    },
    {
      "cell_type": "markdown",
      "source": [
        "#### iterating over a list"
      ],
      "metadata": {
        "id": "qIHjSEtcYH7g"
      }
    },
    {
      "cell_type": "code",
      "source": [
        "# for loops with lists\n",
        "for fruit in fruit_list:\n",
        "  print(fruit)"
      ],
      "metadata": {
        "colab": {
          "base_uri": "https://localhost:8080/"
        },
        "id": "VG-T3mP-FMjR",
        "outputId": "4bc368de-b545-4a1d-d3bd-8129673c7e5a"
      },
      "execution_count": null,
      "outputs": [
        {
          "output_type": "stream",
          "name": "stdout",
          "text": [
            "🍊\n",
            "🍋\n",
            "🍋\n",
            "🍋\n",
            "🍋\n",
            "🍓\n",
            "🥝\n"
          ]
        }
      ]
    },
    {
      "cell_type": "code",
      "source": [],
      "metadata": {
        "id": "MxJqej0QGqxl"
      },
      "execution_count": null,
      "outputs": []
    },
    {
      "cell_type": "markdown",
      "source": [
        "#### slicing a list"
      ],
      "metadata": {
        "id": "_wA4krSbYxnw"
      }
    },
    {
      "cell_type": "code",
      "source": [
        "# Accessing the second list in the list of lists\n",
        "list_of_lists[1] # This is numbers_list"
      ],
      "metadata": {
        "colab": {
          "base_uri": "https://localhost:8080/"
        },
        "id": "VEkKBunI_ERq",
        "outputId": "91068680-aa81-4cd3-d6d1-87f1639833b1"
      },
      "execution_count": null,
      "outputs": [
        {
          "output_type": "execute_result",
          "data": {
            "text/plain": [
              "[1, 3, 3, 3, 3, 5, 8]"
            ]
          },
          "metadata": {},
          "execution_count": 58
        }
      ]
    },
    {
      "cell_type": "code",
      "source": [
        "# slicing from start to end\n",
        "numbers_list[:]"
      ],
      "metadata": {
        "colab": {
          "base_uri": "https://localhost:8080/"
        },
        "id": "qIyZo5JYCwYG",
        "outputId": "f75aaa4d-c48d-4a9e-e328-0e6052746f38"
      },
      "execution_count": null,
      "outputs": [
        {
          "output_type": "execute_result",
          "data": {
            "text/plain": [
              "[1, 3, 3, 3, 3, 5, 8]"
            ]
          },
          "metadata": {},
          "execution_count": 65
        }
      ]
    },
    {
      "cell_type": "code",
      "source": [
        "# slicing from start to end step=1\n",
        "numbers_list[::1]"
      ],
      "metadata": {
        "colab": {
          "base_uri": "https://localhost:8080/"
        },
        "id": "sEDvi1P4CwVe",
        "outputId": "943912a8-b004-45c2-b20d-d8b87c66ad59"
      },
      "execution_count": null,
      "outputs": [
        {
          "output_type": "execute_result",
          "data": {
            "text/plain": [
              "[1, 3, 3, 3, 3, 5, 8]"
            ]
          },
          "metadata": {},
          "execution_count": 66
        }
      ]
    },
    {
      "cell_type": "code",
      "source": [
        "# slicing from start to end step=2\n",
        "numbers_list[::2] # skip one"
      ],
      "metadata": {
        "colab": {
          "base_uri": "https://localhost:8080/"
        },
        "id": "gxYHZ9RUCwS7",
        "outputId": "bb3a1a88-c7a2-4396-856e-dcdc86bba864"
      },
      "execution_count": null,
      "outputs": [
        {
          "output_type": "execute_result",
          "data": {
            "text/plain": [
              "[1, 3, 3, 8]"
            ]
          },
          "metadata": {},
          "execution_count": 67
        }
      ]
    },
    {
      "cell_type": "code",
      "source": [
        "# slicing from start to end step=3\n",
        "numbers_list[::3] # skip two"
      ],
      "metadata": {
        "colab": {
          "base_uri": "https://localhost:8080/"
        },
        "id": "dZokJlV9DiSR",
        "outputId": "b1055f65-16b0-4119-f554-e4479c4e0423"
      },
      "execution_count": null,
      "outputs": [
        {
          "output_type": "execute_result",
          "data": {
            "text/plain": [
              "[1, 3, 8]"
            ]
          },
          "metadata": {},
          "execution_count": 68
        }
      ]
    },
    {
      "cell_type": "code",
      "source": [
        "# slicing from start to end step=-1\n",
        "numbers_list[::-1] ### This reverses the list!!"
      ],
      "metadata": {
        "colab": {
          "base_uri": "https://localhost:8080/"
        },
        "id": "wuJL7eniDiPY",
        "outputId": "75d65847-8e3c-498c-e995-1c1e4b213861"
      },
      "execution_count": null,
      "outputs": [
        {
          "output_type": "execute_result",
          "data": {
            "text/plain": [
              "[8, 5, 3, 3, 3, 3, 1]"
            ]
          },
          "metadata": {},
          "execution_count": 69
        }
      ]
    },
    {
      "cell_type": "markdown",
      "source": [
        "#### list of lists"
      ],
      "metadata": {
        "id": "uatvSjQFYOpO"
      }
    },
    {
      "cell_type": "code",
      "source": [
        "# Create a list that contains other lists\n",
        "list_of_lists = [ fruit_list, numbers_list, word_list ]\n",
        "list_of_lists"
      ],
      "metadata": {
        "colab": {
          "base_uri": "https://localhost:8080/"
        },
        "id": "GF18eeyD_EUf",
        "outputId": "7c0fc412-b952-41d7-e6f9-ece1dcdf7265"
      },
      "execution_count": null,
      "outputs": [
        {
          "output_type": "execute_result",
          "data": {
            "text/plain": [
              "[['🍊', '🍋', '🍋', '🍋', '🍋', '🍓', '🥝'],\n",
              " [1, 3, 3, 3, 3, 5, 8],\n",
              " ['Air', 'Bank', 'Car', 'Cat', 'Dog', 'House', 'Python']]"
            ]
          },
          "metadata": {},
          "execution_count": 57
        }
      ]
    },
    {
      "cell_type": "markdown",
      "source": [
        "# Sets\n",
        "Sets are collections of unique items"
      ],
      "metadata": {
        "id": "uZ-84__XEEW_"
      }
    },
    {
      "cell_type": "code",
      "source": [
        "fruit_list # List may contain duplicate items"
      ],
      "metadata": {
        "colab": {
          "base_uri": "https://localhost:8080/"
        },
        "id": "fECLs5vTEQ0f",
        "outputId": "2ba3b81d-357e-4fef-91f2-4bc7e730744e"
      },
      "execution_count": null,
      "outputs": [
        {
          "output_type": "execute_result",
          "data": {
            "text/plain": [
              "['🍊', '🍋', '🍋', '🍋', '🍋', '🍓', '🥝']"
            ]
          },
          "metadata": {},
          "execution_count": 71
        }
      ]
    },
    {
      "cell_type": "code",
      "source": [
        "set(fruit_list) # Converts to a set with unique elements only"
      ],
      "metadata": {
        "colab": {
          "base_uri": "https://localhost:8080/"
        },
        "id": "0ygDov3sEN8y",
        "outputId": "6d1fd9ba-ec72-4211-9d61-73e322d40618"
      },
      "execution_count": null,
      "outputs": [
        {
          "output_type": "execute_result",
          "data": {
            "text/plain": [
              "{'🍊', '🍋', '🍓', '🥝'}"
            ]
          },
          "metadata": {},
          "execution_count": 70
        }
      ]
    },
    {
      "cell_type": "code",
      "source": [
        "# Initialize a set from a list\n",
        "fruit_set = set(fruit_list) # Converts the list to a set\n",
        "fruit_set"
      ],
      "metadata": {
        "colab": {
          "base_uri": "https://localhost:8080/"
        },
        "id": "w5uCozjrEjAQ",
        "outputId": "8d72d8d8-e3a0-4b18-8af6-86acfaaa38a1"
      },
      "execution_count": null,
      "outputs": [
        {
          "output_type": "execute_result",
          "data": {
            "text/plain": [
              "{'🍊', '🍋', '🍓', '🥝'}"
            ]
          },
          "metadata": {},
          "execution_count": 119
        }
      ]
    },
    {
      "cell_type": "markdown",
      "source": [
        "- Checking if an element exists in a set"
      ],
      "metadata": {
        "id": "BqoX_5jnZ1eH"
      }
    },
    {
      "cell_type": "code",
      "source": [
        "'🍎' in fruit_set # False, no apple emoji in the set"
      ],
      "metadata": {
        "colab": {
          "base_uri": "https://localhost:8080/"
        },
        "id": "B9U4YaN-EzlZ",
        "outputId": "d6dc5ea3-f1b7-49e3-a7bb-7226557d5784"
      },
      "execution_count": null,
      "outputs": [
        {
          "output_type": "execute_result",
          "data": {
            "text/plain": [
              "False"
            ]
          },
          "metadata": {},
          "execution_count": 76
        }
      ]
    },
    {
      "cell_type": "code",
      "source": [
        "# do we have lemmons?\n",
        "'🍋' in fruit_set"
      ],
      "metadata": {
        "colab": {
          "base_uri": "https://localhost:8080/"
        },
        "id": "6msIt7Q7EziP",
        "outputId": "cf38c052-fde0-492e-d5d5-6e503d144757"
      },
      "execution_count": null,
      "outputs": [
        {
          "output_type": "execute_result",
          "data": {
            "text/plain": [
              "True"
            ]
          },
          "metadata": {},
          "execution_count": 77
        }
      ]
    },
    {
      "cell_type": "code",
      "source": [
        "# this also works for lists\n",
        "'🍋' in fruit_list"
      ],
      "metadata": {
        "colab": {
          "base_uri": "https://localhost:8080/"
        },
        "id": "tVGPD8LlEzfZ",
        "outputId": "188bbb4f-8a73-466b-b40d-1e4244d2d4d0"
      },
      "execution_count": null,
      "outputs": [
        {
          "output_type": "execute_result",
          "data": {
            "text/plain": [
              "True"
            ]
          },
          "metadata": {},
          "execution_count": 78
        }
      ]
    },
    {
      "cell_type": "code",
      "source": [
        "# Sets do not allow indexing\n",
        "fruit_set[2]  # This will fail, as sets are unordered"
      ],
      "metadata": {
        "colab": {
          "base_uri": "https://localhost:8080/",
          "height": 176
        },
        "id": "_weyoNIrFmwk",
        "outputId": "7a4b22c8-dd31-4a1a-cbfc-6b37ddebd8c5"
      },
      "execution_count": null,
      "outputs": [
        {
          "output_type": "error",
          "ename": "TypeError",
          "evalue": "'set' object is not subscriptable",
          "traceback": [
            "\u001b[0;31m---------------------------------------------------------------------------\u001b[0m",
            "\u001b[0;31mTypeError\u001b[0m                                 Traceback (most recent call last)",
            "\u001b[0;32m<ipython-input-81-502f6675a992>\u001b[0m in \u001b[0;36m<cell line: 1>\u001b[0;34m()\u001b[0m\n\u001b[0;32m----> 1\u001b[0;31m \u001b[0mfruit_set\u001b[0m\u001b[0;34m[\u001b[0m\u001b[0;36m2\u001b[0m\u001b[0;34m]\u001b[0m\u001b[0;34m\u001b[0m\u001b[0;34m\u001b[0m\u001b[0m\n\u001b[0m",
            "\u001b[0;31mTypeError\u001b[0m: 'set' object is not subscriptable"
          ]
        }
      ]
    },
    {
      "cell_type": "markdown",
      "source": [
        "- Set operations"
      ],
      "metadata": {
        "id": "M1LZ-nDXaBXJ"
      }
    },
    {
      "cell_type": "code",
      "source": [
        "fruit_set.intersection({'🥝', '🍎'}) # Finds the common elements between sets"
      ],
      "metadata": {
        "colab": {
          "base_uri": "https://localhost:8080/"
        },
        "id": "3Bw5D2wNLb3_",
        "outputId": "1b9e034b-b869-4c8d-9efc-e15b758ca6b6"
      },
      "execution_count": null,
      "outputs": [
        {
          "output_type": "execute_result",
          "data": {
            "text/plain": [
              "{'🥝'}"
            ]
          },
          "metadata": {},
          "execution_count": 121
        }
      ]
    },
    {
      "cell_type": "code",
      "source": [
        "fruit_set = fruit_set.union('🍎') # Adds an apple to the set"
      ],
      "metadata": {
        "id": "3L8VDLfSGwAT"
      },
      "execution_count": null,
      "outputs": []
    },
    {
      "cell_type": "code",
      "source": [
        "fruit_set"
      ],
      "metadata": {
        "colab": {
          "base_uri": "https://localhost:8080/"
        },
        "id": "mptEl5huHktM",
        "outputId": "6b004ba6-8069-4ef8-cfee-a453a21b7954"
      },
      "execution_count": null,
      "outputs": [
        {
          "output_type": "execute_result",
          "data": {
            "text/plain": [
              "{'🍊', '🍋', '🍎', '🍓', '🥝'}"
            ]
          },
          "metadata": {},
          "execution_count": 118
        }
      ]
    },
    {
      "cell_type": "code",
      "source": [
        "fruit_set.union({1,2,3,4}) # sets can also hold multiple data types"
      ],
      "metadata": {
        "colab": {
          "base_uri": "https://localhost:8080/"
        },
        "id": "H717Yf2QJfa9",
        "outputId": "25e6c862-d293-44f0-ecd1-0cbd362d534a"
      },
      "execution_count": null,
      "outputs": [
        {
          "output_type": "execute_result",
          "data": {
            "text/plain": [
              "{1, 2, 3, 4, '🍊', '🍋', '🍎', '🍓', '🥝'}"
            ]
          },
          "metadata": {},
          "execution_count": 102
        }
      ]
    },
    {
      "cell_type": "markdown",
      "source": [
        "# Dictionaries\n",
        "A dictionary stores key-value pairs\n"
      ],
      "metadata": {
        "id": "PPtqmfYSJKcb"
      }
    },
    {
      "cell_type": "code",
      "source": [
        "# define a dictionary\n",
        "fruit_to_color = {'🍋':'yellow', '🍎':'red', '🥝':'green'}"
      ],
      "metadata": {
        "id": "5y9X-UEtJMzP"
      },
      "execution_count": null,
      "outputs": []
    },
    {
      "cell_type": "code",
      "source": [
        "fruit_to_color['🍋'] # Accessing values by key"
      ],
      "metadata": {
        "colab": {
          "base_uri": "https://localhost:8080/",
          "height": 35
        },
        "id": "jqKreCvxJMwZ",
        "outputId": "7c0ce544-d841-432d-8ffa-41c29e97318e"
      },
      "execution_count": null,
      "outputs": [
        {
          "output_type": "execute_result",
          "data": {
            "text/plain": [
              "'yellow'"
            ],
            "application/vnd.google.colaboratory.intrinsic+json": {
              "type": "string"
            }
          },
          "metadata": {},
          "execution_count": 107
        }
      ]
    },
    {
      "cell_type": "code",
      "source": [
        "# Attempting to access a key that doesn’t exist results in an error\n",
        "fruit_to_color['🍊']"
      ],
      "metadata": {
        "colab": {
          "base_uri": "https://localhost:8080/",
          "height": 176
        },
        "id": "nq9AAd_AJMs-",
        "outputId": "02ddfd39-e7f2-4d66-cbe3-7fe5b1dfe70f"
      },
      "execution_count": null,
      "outputs": [
        {
          "output_type": "error",
          "ename": "KeyError",
          "evalue": "'🍊'",
          "traceback": [
            "\u001b[0;31m---------------------------------------------------------------------------\u001b[0m",
            "\u001b[0;31mKeyError\u001b[0m                                  Traceback (most recent call last)",
            "\u001b[0;32m<ipython-input-108-7ac8579ac9a2>\u001b[0m in \u001b[0;36m<cell line: 1>\u001b[0;34m()\u001b[0m\n\u001b[0;32m----> 1\u001b[0;31m \u001b[0mfruit_to_color\u001b[0m\u001b[0;34m[\u001b[0m\u001b[0;34m'🍊'\u001b[0m\u001b[0;34m]\u001b[0m\u001b[0;34m\u001b[0m\u001b[0;34m\u001b[0m\u001b[0m\n\u001b[0m",
            "\u001b[0;31mKeyError\u001b[0m: '🍊'"
          ]
        }
      ]
    },
    {
      "cell_type": "code",
      "source": [
        "fruit_to_color = {'🍋':'yellow', '🍎':'red', '🥝':'green','🥝':'brown'}"
      ],
      "metadata": {
        "id": "ouZf-8BCKOqr"
      },
      "execution_count": null,
      "outputs": []
    },
    {
      "cell_type": "code",
      "source": [
        "fruit_to_color # the previous kiwi color was overwitten"
      ],
      "metadata": {
        "colab": {
          "base_uri": "https://localhost:8080/"
        },
        "id": "FZbrgskYKbpy",
        "outputId": "c7f64e90-9bb8-4c6d-c0d5-39a57faf9c5c"
      },
      "execution_count": null,
      "outputs": [
        {
          "output_type": "execute_result",
          "data": {
            "text/plain": [
              "{'🍋': 'yellow', '🍎': 'red', '🥝': 'brown'}"
            ]
          },
          "metadata": {},
          "execution_count": 113
        }
      ]
    },
    {
      "cell_type": "code",
      "source": [
        "fruit_to_color['🥝']"
      ],
      "metadata": {
        "colab": {
          "base_uri": "https://localhost:8080/",
          "height": 35
        },
        "id": "n-_JBHOkKSxm",
        "outputId": "79559ece-b63d-4d9e-cb90-08f966a07d63"
      },
      "execution_count": null,
      "outputs": [
        {
          "output_type": "execute_result",
          "data": {
            "text/plain": [
              "'brown'"
            ],
            "application/vnd.google.colaboratory.intrinsic+json": {
              "type": "string"
            }
          },
          "metadata": {},
          "execution_count": 114
        }
      ]
    },
    {
      "cell_type": "code",
      "source": [
        "# Set the value back to green\n",
        "fruit_to_color['🥝'] = 'green'"
      ],
      "metadata": {
        "id": "IsmK5MgjKlPs"
      },
      "execution_count": null,
      "outputs": []
    },
    {
      "cell_type": "code",
      "source": [
        "fruit_to_color['🥝']"
      ],
      "metadata": {
        "colab": {
          "base_uri": "https://localhost:8080/",
          "height": 35
        },
        "id": "quQDJtS2KrAy",
        "outputId": "452ee607-ee3a-4448-d09b-59b573da010d"
      },
      "execution_count": null,
      "outputs": [
        {
          "output_type": "execute_result",
          "data": {
            "text/plain": [
              "'green'"
            ],
            "application/vnd.google.colaboratory.intrinsic+json": {
              "type": "string"
            }
          },
          "metadata": {},
          "execution_count": 116
        }
      ]
    },
    {
      "cell_type": "code",
      "source": [
        "# Add a new key-value pair\n",
        "fruit_to_color['🍊'] = 'orange'\n",
        "# print the updated dict\n",
        "fruit_to_color"
      ],
      "metadata": {
        "colab": {
          "base_uri": "https://localhost:8080/"
        },
        "id": "iB5nOLPPKsr4",
        "outputId": "31ffa599-50b2-4365-d20d-1e8daea917bd"
      },
      "execution_count": null,
      "outputs": [
        {
          "output_type": "execute_result",
          "data": {
            "text/plain": [
              "{'🍋': 'yellow', '🍎': 'red', '🥝': 'green', '🍊': 'orange'}"
            ]
          },
          "metadata": {},
          "execution_count": 117
        }
      ]
    },
    {
      "cell_type": "code",
      "source": [],
      "metadata": {
        "id": "r0-FkeGpbcQW"
      },
      "execution_count": null,
      "outputs": []
    },
    {
      "cell_type": "code",
      "source": [],
      "metadata": {
        "id": "YmNhKj2_bcNv"
      },
      "execution_count": null,
      "outputs": []
    },
    {
      "cell_type": "code",
      "source": [],
      "metadata": {
        "id": "W4Cyqb_GbcKq"
      },
      "execution_count": null,
      "outputs": []
    },
    {
      "cell_type": "markdown",
      "source": [
        "# Example: the reverse complement of a sequence"
      ],
      "metadata": {
        "id": "nsSbde-2qWKI"
      }
    },
    {
      "cell_type": "code",
      "source": [],
      "metadata": {
        "id": "Y-PpDUBBj9rL"
      },
      "execution_count": null,
      "outputs": []
    },
    {
      "cell_type": "markdown",
      "source": [
        "## the reverse function"
      ],
      "metadata": {
        "id": "wPIC2T9bQPsq"
      }
    },
    {
      "cell_type": "code",
      "source": [
        "### Define the function:\n",
        "def reverse(dna_sequence):\n",
        "    # Generate the reverse sequence\n",
        "    reverse_sequence = ''\n",
        "    for nucleotide in dna_sequence:\n",
        "        reverse_sequence = nucleotide + reverse_sequence\n",
        "\n",
        "    return reverse_sequence"
      ],
      "metadata": {
        "id": "v9fGwgnimLz5"
      },
      "execution_count": null,
      "outputs": []
    },
    {
      "cell_type": "code",
      "source": [
        "### Call the reverese function:\n",
        "seq = \"ATGTCAC\"\n",
        "result = reverse(seq)\n",
        "print(result)"
      ],
      "metadata": {
        "colab": {
          "base_uri": "https://localhost:8080/"
        },
        "id": "pGYiLzykjTw8",
        "outputId": "5f0c0a05-f6af-4b84-b668-896947fef9a4"
      },
      "execution_count": null,
      "outputs": [
        {
          "output_type": "stream",
          "name": "stdout",
          "text": [
            "CACTGTA\n"
          ]
        }
      ]
    },
    {
      "cell_type": "code",
      "source": [
        "# @title run this cell to visualize the flow of the above code\n",
        "example_code = \"\"\"### Define the function:\n",
        "def reverse(dna_sequence):\n",
        "    # Generate the complement sequence\n",
        "    reverse_sequence = ''\n",
        "    for nucleotide in dna_sequence:\n",
        "        reverse_sequence = nucleotide + reverse_sequence\n",
        "\n",
        "    return reverse_sequence\n",
        "\n",
        "### Example usage:\n",
        "seq = \"ATGTCAC\"\n",
        "result = reverse(seq)\n",
        "print(result)\n",
        "\"\"\"\n",
        "display_url(generate_pythontutor_url(example_code),height = 480)"
      ],
      "metadata": {
        "colab": {
          "base_uri": "https://localhost:8080/",
          "height": 501
        },
        "cellView": "form",
        "id": "2UeGxBndjTuV",
        "outputId": "b87a6115-50d4-4b26-9520-1779168a9c0a"
      },
      "execution_count": null,
      "outputs": [
        {
          "output_type": "display_data",
          "data": {
            "text/plain": [
              "<IPython.core.display.HTML object>"
            ],
            "text/html": [
              "\n",
              "    <iframe width=\"1200\" height=\"480\" frameborder=\"0\" src=\"https://pythontutor.com/iframe-embed.html#code=%23%23%23%20Define%20the%20function%3A%0Adef%20reverse%28dna_sequence%29%3A%0A%20%20%20%20%23%20Generate%20the%20complement%20sequence%0A%20%20%20%20reverse_sequence%20%3D%20%27%27%0A%20%20%20%20for%20nucleotide%20in%20dna_sequence%3A%0A%20%20%20%20%20%20%20%20reverse_sequence%20%3D%20nucleotide%20%2B%20reverse_sequence%0A%0A%20%20%20%20return%20reverse_sequence%0A%0A%23%23%23%20Example%20usage%3A%0Aseq%20%3D%20%22ATGTCAC%22%0Aresult%20%3D%20reverse%28seq%29%0Aprint%28result%29%20%0A&codeDivHeight=580&codeDivWidth=640&cumulative=false&curInstr=0&heapPrimitives=nevernest&origin=opt-frontend.js&py=3&rawInputLstJSON=%5B%5D&textReferences=false\"></iframe>\n",
              "    "
            ]
          },
          "metadata": {}
        }
      ]
    },
    {
      "cell_type": "code",
      "source": [],
      "metadata": {
        "id": "btaI_CqXppfz"
      },
      "execution_count": null,
      "outputs": []
    },
    {
      "cell_type": "markdown",
      "source": [
        "## the complement function"
      ],
      "metadata": {
        "id": "Z9fXNwD5QYJg"
      }
    },
    {
      "cell_type": "code",
      "source": [
        "### Define the function:\n",
        "def complement(dna_sequence):\n",
        "    # Dictionary to map each nucleotide to its complement\n",
        "    complement = {'A': 'T', 'T': 'A', 'C': 'G', 'G': 'C'}\n",
        "\n",
        "    # Generate the complement sequence\n",
        "    complement_sequence = ''\n",
        "    for nucleotide in dna_sequence:\n",
        "        complement_nucleotide = complement[nucleotide]\n",
        "        complement_sequence += complement_nucleotide\n",
        "\n",
        "    return complement_sequence"
      ],
      "metadata": {
        "id": "Lw29FyVEppcr"
      },
      "execution_count": null,
      "outputs": []
    },
    {
      "cell_type": "code",
      "source": [
        "### Call the complement function:\n",
        "seq = \"ATGTCAC\"\n",
        "result = complement(seq)\n",
        "print(result)"
      ],
      "metadata": {
        "id": "1q4MEOfjppU6",
        "colab": {
          "base_uri": "https://localhost:8080/"
        },
        "outputId": "a40899e0-66e9-42e9-9b9e-1060736c90d3"
      },
      "execution_count": null,
      "outputs": [
        {
          "output_type": "stream",
          "name": "stdout",
          "text": [
            "TACAGTG\n"
          ]
        }
      ]
    },
    {
      "cell_type": "code",
      "source": [
        "# @title run this cell to visualize the flow of the above code\n",
        "example_code = \"\"\"### Define the function:\n",
        "def complement(dna_sequence):\n",
        "    # Dictionary to map each nucleotide to its complement\n",
        "    complement = {'A': 'T', 'T': 'A', 'C': 'G', 'G': 'C'}\n",
        "\n",
        "    # Generate the complement sequence\n",
        "    complement_sequence = ''\n",
        "    for nucleotide in dna_sequence:\n",
        "        complement_nucleotide = complement[nucleotide]\n",
        "        complement_sequence += complement_nucleotide\n",
        "\n",
        "    return complement_sequence\n",
        "\n",
        "### Example usage:\n",
        "seq = \"ATGTCAC\"\n",
        "result = complement(seq)\n",
        "print(result)\n",
        "\"\"\"\n",
        "display_url(generate_pythontutor_url(example_code),height = 580)"
      ],
      "metadata": {
        "colab": {
          "base_uri": "https://localhost:8080/",
          "height": 601
        },
        "cellView": "form",
        "id": "DCiEoBr9jTpI",
        "outputId": "19aca0c2-c1fa-46dc-a384-e6c34e93ddd0"
      },
      "execution_count": null,
      "outputs": [
        {
          "output_type": "display_data",
          "data": {
            "text/plain": [
              "<IPython.core.display.HTML object>"
            ],
            "text/html": [
              "\n",
              "    <iframe width=\"1200\" height=\"580\" frameborder=\"0\" src=\"https://pythontutor.com/iframe-embed.html#code=%23%23%23%20Define%20the%20function%3A%0Adef%20complement%28dna_sequence%29%3A%0A%20%20%20%20%23%20Dictionary%20to%20map%20each%20nucleotide%20to%20its%20complement%0A%20%20%20%20complement%20%3D%20%7B%27A%27%3A%20%27T%27%2C%20%27T%27%3A%20%27A%27%2C%20%27C%27%3A%20%27G%27%2C%20%27G%27%3A%20%27C%27%7D%0A%20%20%20%20%0A%20%20%20%20%23%20Generate%20the%20complement%20sequence%0A%20%20%20%20complement_sequence%20%3D%20%27%27%0A%20%20%20%20for%20nucleotide%20in%20dna_sequence%3A%0A%20%20%20%20%20%20%20%20complement_nucleotide%20%3D%20complement%5Bnucleotide%5D%0A%20%20%20%20%20%20%20%20complement_sequence%20%2B%3D%20complement_nucleotide%0A%20%20%20%20%20%20%20%20%0A%20%20%20%20return%20complement_sequence%0A%0A%23%23%23%20Example%20usage%3A%0Aseq%20%3D%20%22ATGTCAC%22%0Aresult%20%3D%20complement%28seq%29%0Aprint%28result%29%20%0A&codeDivHeight=580&codeDivWidth=640&cumulative=false&curInstr=0&heapPrimitives=nevernest&origin=opt-frontend.js&py=3&rawInputLstJSON=%5B%5D&textReferences=false\"></iframe>\n",
              "    "
            ]
          },
          "metadata": {}
        }
      ]
    },
    {
      "cell_type": "code",
      "source": [
        "# Get the reverse complement of the sequence\n",
        "seq = \"ATGTCAC\"\n",
        "result = complement( reverse(seq) )\n",
        "print(result)"
      ],
      "metadata": {
        "id": "85syyfSnjTd7",
        "colab": {
          "base_uri": "https://localhost:8080/"
        },
        "outputId": "578639a2-89aa-491b-ea66-a16a00e1c97b"
      },
      "execution_count": null,
      "outputs": [
        {
          "output_type": "stream",
          "name": "stdout",
          "text": [
            "GTGACAT\n"
          ]
        }
      ]
    },
    {
      "cell_type": "code",
      "source": [],
      "metadata": {
        "id": "oLTlgoVttl1q"
      },
      "execution_count": null,
      "outputs": []
    },
    {
      "cell_type": "code",
      "source": [
        "# @title visualize the flow of your code\n",
        "\n",
        "\n",
        "example_code = \"\"\"## You can edit this:\n",
        "print('hello')\n",
        "x=3\n",
        "if x==0:\n",
        "  print('cannot divide by zero!')\n",
        "else:\n",
        "  print(1/x)\n",
        "\"\"\"\n",
        "\n",
        "\n",
        "# Create a text area for inputting code\n",
        "code_input = widgets.Textarea(\n",
        "    value=example_code,\n",
        "    placeholder='Paste your Python code here...',\n",
        "    description='Code:',\n",
        "    layout=widgets.Layout(width='50%', height='280px')\n",
        ")\n",
        "\n",
        "# Create a button to generate the Python Tutor URL and iframe\n",
        "button = widgets.Button(description=\"Execute step by step\")\n",
        "\n",
        "# Attach the function to the button click event\n",
        "button.on_click(on_button_click)\n",
        "\n",
        "# Display the text area and button\n",
        "display(code_input, button)\n"
      ],
      "metadata": {
        "cellView": "form",
        "id": "ge2dhTF9Nn0f",
        "colab": {
          "base_uri": "https://localhost:8080/",
          "height": 333,
          "referenced_widgets": [
            "039d0e36482b4eca8871fe3fe2eead94",
            "c2a60036584b434abaf5cfb32e480cf8",
            "3e8072c9e2cc42bfb6e7198f4320dc4e",
            "6c8aab7cd67a4748ac62195d13a55b85",
            "bbaf82d8e52940bdac79ed170091d8ff",
            "dd09fed6ce9245378d1c8439f33faa4c"
          ]
        },
        "outputId": "2479ef4f-63f7-43ef-bc37-285b75bed42c"
      },
      "execution_count": null,
      "outputs": [
        {
          "output_type": "display_data",
          "data": {
            "text/plain": [
              "Textarea(value=\"## You can edit this:\\nprint('hello')\\nx=3\\nif x==0:\\n  print('cannot divide by zero!')\\nelse:…"
            ],
            "application/vnd.jupyter.widget-view+json": {
              "version_major": 2,
              "version_minor": 0,
              "model_id": "039d0e36482b4eca8871fe3fe2eead94"
            }
          },
          "metadata": {}
        },
        {
          "output_type": "display_data",
          "data": {
            "text/plain": [
              "Button(description='Execute step by step', style=ButtonStyle())"
            ],
            "application/vnd.jupyter.widget-view+json": {
              "version_major": 2,
              "version_minor": 0,
              "model_id": "6c8aab7cd67a4748ac62195d13a55b85"
            }
          },
          "metadata": {}
        }
      ]
    },
    {
      "cell_type": "code",
      "source": [],
      "metadata": {
        "id": "ATtscVO4VZzP"
      },
      "execution_count": null,
      "outputs": []
    }
  ]
}